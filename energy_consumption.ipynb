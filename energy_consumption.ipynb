{
 "cells": [
  {
   "cell_type": "code",
   "execution_count": 1,
   "metadata": {},
   "outputs": [],
   "source": [
    "import os\n",
    "import random\n",
    "import mlflow\n",
    "import numpy as np\n",
    "import pandas as pd\n",
    "# import tensorflow as tf\n",
    "import matplotlib.pyplot as plt\n",
    "from sklearn.model_selection import train_test_split"
   ]
  },
  {
   "attachments": {},
   "cell_type": "markdown",
   "metadata": {},
   "source": [
    "## Data Engineering"
   ]
  },
  {
   "cell_type": "code",
   "execution_count": 18,
   "metadata": {},
   "outputs": [],
   "source": [
    "df = pd.read_csv(\"./widsdatathon2022/train.csv\")\n",
    "df_test = pd.read_csv(\"./widsdatathon2022/test.csv\")"
   ]
  },
  {
   "cell_type": "code",
   "execution_count": 19,
   "metadata": {},
   "outputs": [
    {
     "data": {
      "text/html": [
       "<div>\n",
       "<style scoped>\n",
       "    .dataframe tbody tr th:only-of-type {\n",
       "        vertical-align: middle;\n",
       "    }\n",
       "\n",
       "    .dataframe tbody tr th {\n",
       "        vertical-align: top;\n",
       "    }\n",
       "\n",
       "    .dataframe thead th {\n",
       "        text-align: right;\n",
       "    }\n",
       "</style>\n",
       "<table border=\"1\" class=\"dataframe\">\n",
       "  <thead>\n",
       "    <tr style=\"text-align: right;\">\n",
       "      <th></th>\n",
       "      <th>Year_Factor</th>\n",
       "      <th>State_Factor</th>\n",
       "      <th>building_class</th>\n",
       "      <th>facility_type</th>\n",
       "      <th>floor_area</th>\n",
       "      <th>year_built</th>\n",
       "      <th>energy_star_rating</th>\n",
       "      <th>ELEVATION</th>\n",
       "      <th>january_min_temp</th>\n",
       "      <th>january_avg_temp</th>\n",
       "      <th>...</th>\n",
       "      <th>days_above_80F</th>\n",
       "      <th>days_above_90F</th>\n",
       "      <th>days_above_100F</th>\n",
       "      <th>days_above_110F</th>\n",
       "      <th>direction_max_wind_speed</th>\n",
       "      <th>direction_peak_wind_speed</th>\n",
       "      <th>max_wind_speed</th>\n",
       "      <th>days_with_fog</th>\n",
       "      <th>site_eui</th>\n",
       "      <th>id</th>\n",
       "    </tr>\n",
       "  </thead>\n",
       "  <tbody>\n",
       "    <tr>\n",
       "      <th>0</th>\n",
       "      <td>1</td>\n",
       "      <td>State_1</td>\n",
       "      <td>Commercial</td>\n",
       "      <td>Grocery_store_or_food_market</td>\n",
       "      <td>61242.0</td>\n",
       "      <td>1942.0</td>\n",
       "      <td>11.0</td>\n",
       "      <td>2.4</td>\n",
       "      <td>36</td>\n",
       "      <td>50.5</td>\n",
       "      <td>...</td>\n",
       "      <td>14</td>\n",
       "      <td>0</td>\n",
       "      <td>0</td>\n",
       "      <td>0</td>\n",
       "      <td>1.0</td>\n",
       "      <td>1.0</td>\n",
       "      <td>1.0</td>\n",
       "      <td>NaN</td>\n",
       "      <td>248.682615</td>\n",
       "      <td>0</td>\n",
       "    </tr>\n",
       "    <tr>\n",
       "      <th>1</th>\n",
       "      <td>1</td>\n",
       "      <td>State_1</td>\n",
       "      <td>Commercial</td>\n",
       "      <td>Warehouse_Distribution_or_Shipping_center</td>\n",
       "      <td>274000.0</td>\n",
       "      <td>1955.0</td>\n",
       "      <td>45.0</td>\n",
       "      <td>1.8</td>\n",
       "      <td>36</td>\n",
       "      <td>50.5</td>\n",
       "      <td>...</td>\n",
       "      <td>14</td>\n",
       "      <td>0</td>\n",
       "      <td>0</td>\n",
       "      <td>0</td>\n",
       "      <td>1.0</td>\n",
       "      <td>NaN</td>\n",
       "      <td>1.0</td>\n",
       "      <td>12.0</td>\n",
       "      <td>26.500150</td>\n",
       "      <td>1</td>\n",
       "    </tr>\n",
       "    <tr>\n",
       "      <th>2</th>\n",
       "      <td>1</td>\n",
       "      <td>State_1</td>\n",
       "      <td>Commercial</td>\n",
       "      <td>Retail_Enclosed_mall</td>\n",
       "      <td>280025.0</td>\n",
       "      <td>1951.0</td>\n",
       "      <td>97.0</td>\n",
       "      <td>1.8</td>\n",
       "      <td>36</td>\n",
       "      <td>50.5</td>\n",
       "      <td>...</td>\n",
       "      <td>14</td>\n",
       "      <td>0</td>\n",
       "      <td>0</td>\n",
       "      <td>0</td>\n",
       "      <td>1.0</td>\n",
       "      <td>NaN</td>\n",
       "      <td>1.0</td>\n",
       "      <td>12.0</td>\n",
       "      <td>24.693619</td>\n",
       "      <td>2</td>\n",
       "    </tr>\n",
       "    <tr>\n",
       "      <th>3</th>\n",
       "      <td>1</td>\n",
       "      <td>State_1</td>\n",
       "      <td>Commercial</td>\n",
       "      <td>Education_Other_classroom</td>\n",
       "      <td>55325.0</td>\n",
       "      <td>1980.0</td>\n",
       "      <td>46.0</td>\n",
       "      <td>1.8</td>\n",
       "      <td>36</td>\n",
       "      <td>50.5</td>\n",
       "      <td>...</td>\n",
       "      <td>14</td>\n",
       "      <td>0</td>\n",
       "      <td>0</td>\n",
       "      <td>0</td>\n",
       "      <td>1.0</td>\n",
       "      <td>NaN</td>\n",
       "      <td>1.0</td>\n",
       "      <td>12.0</td>\n",
       "      <td>48.406926</td>\n",
       "      <td>3</td>\n",
       "    </tr>\n",
       "    <tr>\n",
       "      <th>4</th>\n",
       "      <td>1</td>\n",
       "      <td>State_1</td>\n",
       "      <td>Commercial</td>\n",
       "      <td>Warehouse_Nonrefrigerated</td>\n",
       "      <td>66000.0</td>\n",
       "      <td>1985.0</td>\n",
       "      <td>100.0</td>\n",
       "      <td>2.4</td>\n",
       "      <td>36</td>\n",
       "      <td>50.5</td>\n",
       "      <td>...</td>\n",
       "      <td>14</td>\n",
       "      <td>0</td>\n",
       "      <td>0</td>\n",
       "      <td>0</td>\n",
       "      <td>1.0</td>\n",
       "      <td>1.0</td>\n",
       "      <td>1.0</td>\n",
       "      <td>NaN</td>\n",
       "      <td>3.899395</td>\n",
       "      <td>4</td>\n",
       "    </tr>\n",
       "  </tbody>\n",
       "</table>\n",
       "<p>5 rows × 64 columns</p>\n",
       "</div>"
      ],
      "text/plain": [
       "   Year_Factor State_Factor building_class  \\\n",
       "0            1      State_1     Commercial   \n",
       "1            1      State_1     Commercial   \n",
       "2            1      State_1     Commercial   \n",
       "3            1      State_1     Commercial   \n",
       "4            1      State_1     Commercial   \n",
       "\n",
       "                               facility_type  floor_area  year_built  \\\n",
       "0               Grocery_store_or_food_market     61242.0      1942.0   \n",
       "1  Warehouse_Distribution_or_Shipping_center    274000.0      1955.0   \n",
       "2                       Retail_Enclosed_mall    280025.0      1951.0   \n",
       "3                  Education_Other_classroom     55325.0      1980.0   \n",
       "4                  Warehouse_Nonrefrigerated     66000.0      1985.0   \n",
       "\n",
       "   energy_star_rating  ELEVATION  january_min_temp  january_avg_temp  ...  \\\n",
       "0                11.0        2.4                36              50.5  ...   \n",
       "1                45.0        1.8                36              50.5  ...   \n",
       "2                97.0        1.8                36              50.5  ...   \n",
       "3                46.0        1.8                36              50.5  ...   \n",
       "4               100.0        2.4                36              50.5  ...   \n",
       "\n",
       "   days_above_80F  days_above_90F  days_above_100F  days_above_110F  \\\n",
       "0              14               0                0                0   \n",
       "1              14               0                0                0   \n",
       "2              14               0                0                0   \n",
       "3              14               0                0                0   \n",
       "4              14               0                0                0   \n",
       "\n",
       "   direction_max_wind_speed  direction_peak_wind_speed  max_wind_speed  \\\n",
       "0                       1.0                        1.0             1.0   \n",
       "1                       1.0                        NaN             1.0   \n",
       "2                       1.0                        NaN             1.0   \n",
       "3                       1.0                        NaN             1.0   \n",
       "4                       1.0                        1.0             1.0   \n",
       "\n",
       "   days_with_fog    site_eui  id  \n",
       "0            NaN  248.682615   0  \n",
       "1           12.0   26.500150   1  \n",
       "2           12.0   24.693619   2  \n",
       "3           12.0   48.406926   3  \n",
       "4            NaN    3.899395   4  \n",
       "\n",
       "[5 rows x 64 columns]"
      ]
     },
     "execution_count": 19,
     "metadata": {},
     "output_type": "execute_result"
    }
   ],
   "source": [
    "df.head()"
   ]
  },
  {
   "attachments": {},
   "cell_type": "markdown",
   "metadata": {},
   "source": [
    "<font style='color:skyblue'>Because the data set is big, with MLFlow, the produced files will be too large to be able to upload to the GitHub repository, here we will select the first 1000 instances of the training data set to train the model. Thus, the performance of our model will not be as good as one trained with full data set.</font>"
   ]
  },
  {
   "cell_type": "code",
   "execution_count": 4,
   "metadata": {},
   "outputs": [],
   "source": [
    "X = df.copy()\n",
    "y = pd.DataFrame(X.loc[:1000,'site_eui'], columns=['site_eui'])\n",
    "X = X.drop('site_eui', axis = 1)\n",
    "X = X.loc[:1000,:]\n",
    "X.drop('id', axis = 1, inplace = True)"
   ]
  },
  {
   "attachments": {},
   "cell_type": "markdown",
   "metadata": {},
   "source": [
    "### Split the data into training, validation, and testing sets."
   ]
  },
  {
   "cell_type": "code",
   "execution_count": 5,
   "metadata": {},
   "outputs": [],
   "source": [
    "Xtrain, Xval, ytrain, yval = train_test_split(X, y, test_size = 0.1, random_state=42)"
   ]
  },
  {
   "cell_type": "code",
   "execution_count": 6,
   "metadata": {},
   "outputs": [],
   "source": [
    "cat_cols = Xtrain.select_dtypes(include='object').columns\n",
    "num_cols = Xtrain.drop(columns = cat_cols).columns"
   ]
  },
  {
   "attachments": {},
   "cell_type": "markdown",
   "metadata": {},
   "source": [
    "## Machine Learning Models\n",
    "### Random Forest Tree Model\n",
    "Because we have repeated patterns in numerical features. We decided to use random forest tree model. The random forest tree model can help us determine the importance of these features in the mean time of prediction."
   ]
  },
  {
   "cell_type": "code",
   "execution_count": 23,
   "metadata": {},
   "outputs": [],
   "source": [
    "from sklearn.ensemble import RandomForestRegressor\n",
    "from sklearn.metrics import mean_squared_error\n",
    "\n",
    "def train_model(train_df, max_depth=2):\n",
    "    X = train_df.copy()\n",
    "    y = pd.DataFrame(X.loc[:1000,'site_eui'], columns=['site_eui'])\n",
    "    X = X.drop('site_eui', axis = 1)\n",
    "    X = X.loc[:1000,:]\n",
    "    X.drop('id', axis = 1, inplace = True)\n",
    "    \n",
    "    # Split data\n",
    "    Xtrain = X\n",
    "    ytrain = y\n",
    "    X_train, X_test, y_train, y_test = train_test_split(Xtrain, ytrain, test_size=0.2, random_state=42)\n",
    "    cat_cols = Xtrain.select_dtypes(include='object').columns\n",
    "    num_cols = Xtrain.drop(columns=cat_cols).columns\n",
    "    # Fit model\n",
    "    model = RandomForestRegressor(max_depth=max_depth)\n",
    "    model.fit(X_train[num_cols].fillna(0), y_train)\n",
    "    # Evaluate the model\n",
    "    y_pred = model.predict(X_test[num_cols].fillna(0))\n",
    "    mse = mean_squared_error(y_test, y_pred)\n",
    "    rmse = mean_squared_error(y_test, y_pred, squared=False)\n",
    "    print(f\"Test mse = {mse:.2f}, Test RMSE = {rmse:.2f}, Random forest max depth = {max_depth}\")\n",
    "    return model, mse, rmse\n",
    "\n",
    "\n",
    "# clf = RandomForestRegressor()\n",
    "# clf.fit(Xtrain[num_cols].fillna(0), ytrain)\n"
   ]
  },
  {
   "cell_type": "code",
   "execution_count": 29,
   "metadata": {},
   "outputs": [
    {
     "name": "stdout",
     "output_type": "stream",
     "text": [
      "Test mse = 2543.75, Test RMSE = 50.44, Random forest max depth = 2\n"
     ]
    },
    {
     "name": "stderr",
     "output_type": "stream",
     "text": [
      "/var/folders/pg/t33xxggd1cndkk5fsb62rs_40000gn/T/ipykernel_28041/3999762109.py:19: DataConversionWarning: A column-vector y was passed when a 1d array was expected. Please change the shape of y to (n_samples,), for example using ravel().\n",
      "  model.fit(X_train[num_cols].fillna(0), y_train)\n"
     ]
    }
   ],
   "source": [
    "clf, mse, rmse = train_model(df, max_depth=2)"
   ]
  },
  {
   "cell_type": "code",
   "execution_count": 30,
   "metadata": {},
   "outputs": [
    {
     "data": {
      "text/plain": [
       "<matplotlib.axes._subplots.AxesSubplot at 0x282e390f0>"
      ]
     },
     "execution_count": 30,
     "metadata": {},
     "output_type": "execute_result"
    },
    {
     "data": {
      "image/png": "[encoded data removed]",
      "text/plain": [
       "<Figure size 640x480 with 1 Axes>"
      ]
     },
     "metadata": {},
     "output_type": "display_data"
    }
   ],
   "source": [
    "%matplotlib inline\n",
    "importances = clf.feature_importances_\n",
    "forest_importances = pd.Series(importances, index = num_cols).sort_values(ascending=False)[:10]\n",
    "forest_importances.plot.bar()\n"
   ]
  },
  {
   "attachments": {},
   "cell_type": "markdown",
   "metadata": {},
   "source": [
    "### Save the RF model with mlflow"
   ]
  },
  {
   "cell_type": "code",
   "execution_count": 32,
   "metadata": {},
   "outputs": [],
   "source": [
    "from mlflow import MlflowClient\n",
    "\n",
    "def train_model(train_df, max_depth=2):\n",
    "    with mlflow.start_run():\n",
    "        # Split data\n",
    "        X = train_df.copy()\n",
    "        y = pd.DataFrame(X.loc[:1000,'site_eui'], columns=['site_eui'])\n",
    "        X = X.drop('site_eui', axis = 1)\n",
    "        X = X.loc[:1000,:]\n",
    "        X.drop('id', axis = 1, inplace = True)\n",
    "\n",
    "        X_train, X_test, y_train, y_test = train_test_split(X, y, test_size=0.2, random_state=42)\n",
    "        cat_cols = Xtrain.select_dtypes(include='object').columns\n",
    "        num_cols = Xtrain.drop(columns=cat_cols).columns\n",
    "        # Fit model\n",
    "        model = RandomForestRegressor(max_depth=max_depth)\n",
    "        model.fit(X_train[num_cols].fillna(0), y_train)\n",
    "        ## mlflow: log model & its hyper-parameters\n",
    "        mlflow.log_param(\"max_depth\", max_depth)\n",
    "        mlflow.sklearn.log_model(model, \"model\")\n",
    "\n",
    "        # Evaluate the model\n",
    "        y_pred = model.predict(X_test[num_cols].fillna(0))\n",
    "        mse = mean_squared_error(y_test, y_pred)\n",
    "        rmse = mean_squared_error(y_test, y_pred, squared=False)\n",
    "        ## mlflow: log metrics\n",
    "        mlflow.log_metrics({\"testing_mse\": mse, \"testing_rmse\": rmse})\n",
    "        print(f\"Test mse = {mse:.2f}, Test RMSE = {rmse:.2f}, Random forest max depth = {max_depth}\")\n",
    "\n",
    "# def fetch_logged_data(run_id):\n",
    "#     client = MlflowClient()\n",
    "#     data = client.get_run(run_id).data\n",
    "#     tags = {k: v for k, v in data.tags.items() if not k.startswith(\"mlflow.\")}\n",
    "#     artifacts = [f.path for f in client.list_artifacts(run_id, \"model\")]\n",
    "#     return data.params, data.metrics, tags, artifacts\n",
    "\n",
    "# mlflow.sklearn.autolog()\n",
    "\n",
    "# with mlflow.start_run() as run:\n",
    "#     clf.fit(Xtrain[num_cols].fillna(0), ytrain)\n",
    "    \n",
    "# params, metrics, tags, artifacts = fetch_logged_data(run.info.run_id)"
   ]
  },
  {
   "cell_type": "code",
   "execution_count": 33,
   "metadata": {},
   "outputs": [
    {
     "name": "stderr",
     "output_type": "stream",
     "text": [
      "/var/folders/pg/t33xxggd1cndkk5fsb62rs_40000gn/T/ipykernel_28041/2140515559.py:17: DataConversionWarning: A column-vector y was passed when a 1d array was expected. Please change the shape of y to (n_samples,), for example using ravel().\n",
      "  model.fit(X_train[num_cols].fillna(0), y_train)\n",
      "/Users/lin.yang/miniconda3/envs/aimd/lib/python3.10/site-packages/_distutils_hack/__init__.py:33: UserWarning: Setuptools is replacing distutils.\n",
      "  warnings.warn(\"Setuptools is replacing distutils.\")\n",
      "/var/folders/pg/t33xxggd1cndkk5fsb62rs_40000gn/T/ipykernel_28041/2140515559.py:17: DataConversionWarning: A column-vector y was passed when a 1d array was expected. Please change the shape of y to (n_samples,), for example using ravel().\n",
      "  model.fit(X_train[num_cols].fillna(0), y_train)\n"
     ]
    },
    {
     "name": "stdout",
     "output_type": "stream",
     "text": [
      "Test mse = 2538.62, Test RMSE = 50.38, Random forest max depth = 2\n",
      "Test mse = 2239.08, Test RMSE = 47.32, Random forest max depth = 4\n"
     ]
    },
    {
     "name": "stderr",
     "output_type": "stream",
     "text": [
      "/var/folders/pg/t33xxggd1cndkk5fsb62rs_40000gn/T/ipykernel_28041/2140515559.py:17: DataConversionWarning: A column-vector y was passed when a 1d array was expected. Please change the shape of y to (n_samples,), for example using ravel().\n",
      "  model.fit(X_train[num_cols].fillna(0), y_train)\n"
     ]
    },
    {
     "name": "stdout",
     "output_type": "stream",
     "text": [
      "Test mse = 2068.76, Test RMSE = 45.48, Random forest max depth = 6\n"
     ]
    }
   ],
   "source": [
    "for max_depth in range(2, 7, 2):\n",
    "    _ = train_model(df, max_depth=max_depth)"
   ]
  },
  {
   "cell_type": "code",
   "execution_count": null,
   "metadata": {},
   "outputs": [],
   "source": []
  }
 ],
 "metadata": {
  "kernelspec": {
   "display_name": "Python 3",
   "language": "python",
   "name": "python3"
  },
  "language_info": {
   "codemirror_mode": {
    "name": "ipython",
    "version": 3
   },
   "file_extension": ".py",
   "mimetype": "text/x-python",
   "name": "python",
   "nbconvert_exporter": "python",
   "pygments_lexer": "ipython3",
   "version": "3.10.4"
  },
  "orig_nbformat": 4
 },
 "nbformat": 4,
 "nbformat_minor": 2
}
